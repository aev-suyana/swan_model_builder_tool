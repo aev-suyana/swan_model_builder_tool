{
 "cells": [
  {
   "cell_type": "code",
   "execution_count": 1,
   "id": "09d50833",
   "metadata": {},
   "outputs": [],
   "source": [
    "%load_ext autoreload\n",
    "%autoreload 2"
   ]
  },
  {
   "cell_type": "code",
   "execution_count": 2,
   "id": "c367b190",
   "metadata": {},
   "outputs": [],
   "source": [
    "import sys # Ensure the src folder is in the path\n",
    "project_path = '/Users/daniela/Documents/swan/swan_model_builder_tool'\n",
    "sys.path.append(project_path)"
   ]
  },
  {
   "cell_type": "code",
   "execution_count": 6,
   "id": "54569b24",
   "metadata": {},
   "outputs": [],
   "source": [
    "import yaml\n",
    "config_path = f'{project_path}/experiments_specs.txt'\n",
    "with open(config_path, \"r\") as f:\n",
    "    config = yaml.safe_load(f)"
   ]
  },
  {
   "cell_type": "code",
   "execution_count": 7,
   "id": "06a3dc3e",
   "metadata": {},
   "outputs": [],
   "source": [
    "def create_main_directories(config):\n",
    "    import os\n",
    "    base_path = config['base']['path']\n",
    "    output_dir = base_path + config['output']['directory']\n",
    "\n",
    "    for folder in config['output']['data'].values():\n",
    "        dir = f'{output_dir}/{folder}'\n",
    "        if not os.path.isdir(dir):\n",
    "            print(f'Creating file {dir}')\n",
    "            os.makedirs(dir, exist_ok=True)\n",
    "        else:\n",
    "            print(f'{dir} already exists')\n",
    "    \n",
    "    for folder in config['output']['subdirectories']:\n",
    "        dir = f'{output_dir}/{folder}'\n",
    "        if not os.path.isdir(dir):\n",
    "            print(f'Creating file {dir}')\n",
    "            os.makedirs(dir, exist_ok=True)\n",
    "        else:\n",
    "            print(f'{dir} already exists')"
   ]
  },
  {
   "cell_type": "code",
   "execution_count": 8,
   "id": "eced12e1",
   "metadata": {},
   "outputs": [
    {
     "name": "stdout",
     "output_type": "stream",
     "text": [
      "/Users/daniela/Documents/swan/swan_experiments/run_storm_event_southern_peru/DATA/WIND already exists\n",
      "/Users/daniela/Documents/swan/swan_experiments/run_storm_event_southern_peru/DATA/WAVE already exists\n",
      "/Users/daniela/Documents/swan/swan_experiments/run_storm_event_southern_peru/DATA/BATHY already exists\n",
      "/Users/daniela/Documents/swan/swan_experiments/run_storm_event_southern_peru/QGIS already exists\n",
      "/Users/daniela/Documents/swan/swan_experiments/run_storm_event_southern_peru/SWAN/01_geometry already exists\n",
      "/Users/daniela/Documents/swan/swan_experiments/run_storm_event_southern_peru/SWAN/02_bc_dbase already exists\n",
      "/Users/daniela/Documents/swan/swan_experiments/run_storm_event_southern_peru/SWAN/03_simulation already exists\n",
      "/Users/daniela/Documents/swan/swan_experiments/run_storm_event_southern_peru/SWAN/04_results already exists\n"
     ]
    }
   ],
   "source": [
    "create_main_directories(config)"
   ]
  },
  {
   "cell_type": "code",
   "execution_count": 9,
   "id": "819f076d",
   "metadata": {},
   "outputs": [],
   "source": [
    "import generate_config as gc"
   ]
  },
  {
   "cell_type": "code",
   "execution_count": 10,
   "id": "a0509b50",
   "metadata": {},
   "outputs": [
    {
     "name": "stdout",
     "output_type": "stream",
     "text": [
      "Configuration file generated: /Users/daniela/Documents/swan/swan_experiments/run_storm_event_southern_peru/SWAN/CONFIG.ini\n"
     ]
    }
   ],
   "source": [
    "gc.main(config_path)"
   ]
  },
  {
   "cell_type": "code",
   "execution_count": 11,
   "id": "4f474454",
   "metadata": {},
   "outputs": [],
   "source": [
    "import create_grid as cg"
   ]
  },
  {
   "cell_type": "code",
   "execution_count": 12,
   "id": "cba5d836",
   "metadata": {},
   "outputs": [
    {
     "name": "stdout",
     "output_type": "stream",
     "text": [
      "Grids saved to: /Users/daniela/Documents/swan/swan_experiments/run_storm_event_southern_peru/QGIS/swan_grids.shp\n"
     ]
    }
   ],
   "source": [
    "cg.main(config_path)"
   ]
  },
  {
   "cell_type": "code",
   "execution_count": 15,
   "id": "73115fb4",
   "metadata": {},
   "outputs": [],
   "source": [
    "import build_and_run as br"
   ]
  },
  {
   "cell_type": "code",
   "execution_count": 16,
   "id": "d0e50897",
   "metadata": {},
   "outputs": [
    {
     "name": "stdout",
     "output_type": "stream",
     "text": [
      "Checking required files:\n",
      "Bathymetry: /Users/daniela/Documents/swan/swan_experiments/run_storm_event_southern_peru/DATA/BATHY/gebco_2024_n-17.0_s-18.3_w-73.0_e-70.3.tif\n",
      "Wind: /Users/daniela/Documents/swan/swan_experiments/run_storm_event_southern_peru/DATA/WIND/wind_data_hourly_2024-12-15_2025-01-15_-73.0_-70.3_-18.3_-17.0.nc\n",
      "Wave: /Users/daniela/Documents/swan/swan_experiments/run_storm_event_southern_peru/DATA/WAVE/wave_data_hourly_2024-12-15_2025-01-15_-73.0_-70.3_-18.3_-17.0.nc\n",
      "Grid: /Users/daniela/Documents/swan/swan_experiments/run_storm_event_southern_peru/QGIS/swan_grids.shp\n",
      "1734220800.0\n",
      "<class 'numpy.float64'>\n",
      "1734220800.0\n",
      "<class 'numpy.float64'>\n"
     ]
    },
    {
     "name": "stderr",
     "output_type": "stream",
     "text": [
      "ERROR 1: JSON parsing error: unexpected end of data (at offset 0)\n"
     ]
    }
   ],
   "source": [
    "br.main(config_path)"
   ]
  },
  {
   "cell_type": "code",
   "execution_count": 17,
   "id": "3a7ecf45",
   "metadata": {},
   "outputs": [
    {
     "ename": "NameError",
     "evalue": "name 'np' is not defined",
     "output_type": "error",
     "traceback": [
      "\u001b[0;31m---------------------------------------------------------------------------\u001b[0m",
      "\u001b[0;31mNameError\u001b[0m                                 Traceback (most recent call last)",
      "Cell \u001b[0;32mIn[17], line 1\u001b[0m\n\u001b[0;32m----> 1\u001b[0m areas \u001b[38;5;241m=\u001b[39m \u001b[43mnp\u001b[49m\u001b[38;5;241m.\u001b[39marray([model\u001b[38;5;241m.\u001b[39mswanGrid\u001b[38;5;241m.\u001b[39mgetBoundary() \u001b[38;5;28;01mfor\u001b[39;00m model \u001b[38;5;129;01min\u001b[39;00m models])\n",
      "\u001b[0;31mNameError\u001b[0m: name 'np' is not defined"
     ]
    }
   ],
   "source": [
    "import numpy as np\n",
    "areas = np.array([model.swanGrid.getBoundary() for model in models])"
   ]
  },
  {
   "cell_type": "code",
   "execution_count": 87,
   "id": "0ffc3d3c",
   "metadata": {},
   "outputs": [],
   "source": [
    "import geopandas as gpd\n",
    "gdf = gpd.read_file('/home/jupyter-gabriel/projects/tuflow/swan_peru_central/QGIS/QGIS_central_peru_GRIDS_000.shp')#'/home/jupyter-gabriel/projects/tuflow/swan_dbrisaro/run_storm_event_southern_peru/QGIS/swan_grids.shp')"
   ]
  },
  {
   "cell_type": "code",
   "execution_count": 88,
   "id": "0843dc67",
   "metadata": {},
   "outputs": [
    {
     "data": {
      "text/plain": [
       "<Axes: >"
      ]
     },
     "execution_count": 88,
     "metadata": {},
     "output_type": "execute_result"
    },
    {
     "data": {
      "image/png": "[encoded data removed]",
      "text/plain": [
       "<Figure size 640x480 with 1 Axes>"
      ]
     },
     "metadata": {},
     "output_type": "display_data"
    }
   ],
   "source": [
    "gdf.plot(column='Name', cmap='Set2', legend=True, edgecolor='black')"
   ]
  },
  {
   "cell_type": "code",
   "execution_count": 86,
   "id": "9f239d5b",
   "metadata": {},
   "outputs": [
    {
     "data": {
      "text/plain": [
       "<Axes: >"
      ]
     },
     "execution_count": 86,
     "metadata": {},
     "output_type": "execute_result"
    },
    {
     "data": {
      "image/png": "[encoded data removed]",
      "text/plain": [
       "<Figure size 640x480 with 1 Axes>"
      ]
     },
     "metadata": {},
     "output_type": "display_data"
    }
   ],
   "source": [
    "gdf.plot(column='Name', cmap='Set2', legend=True, edgecolor='black')"
   ]
  },
  {
   "cell_type": "code",
   "execution_count": 83,
   "id": "fcddfa00",
   "metadata": {},
   "outputs": [],
   "source": [
    "coords = gdf['geometry'].apply(lambda geom: list(geom.exterior.coords)[:-1])"
   ]
  },
  {
   "cell_type": "code",
   "execution_count": 84,
   "id": "e2f72d7c",
   "metadata": {},
   "outputs": [],
   "source": [
    "points = np.array(coords[1])\n",
    "polygon = np.array(coords[0])"
   ]
  },
  {
   "cell_type": "code",
   "execution_count": 85,
   "id": "cb9a7ffd",
   "metadata": {},
   "outputs": [
    {
     "data": {
      "text/plain": [
       "array([False,  True, False, False])"
      ]
     },
     "execution_count": 85,
     "metadata": {},
     "output_type": "execute_result"
    }
   ],
   "source": [
    "inPolygon(points, polygon)"
   ]
  },
  {
   "cell_type": "code",
   "execution_count": 57,
   "id": "5dd13c32",
   "metadata": {},
   "outputs": [
    {
     "data": {
      "text/plain": [
       "array([False,  True, False, False])"
      ]
     },
     "execution_count": 57,
     "metadata": {},
     "output_type": "execute_result"
    }
   ],
   "source": [
    "path = mplPath.Path(polygon)\n",
    "path.contains_points(points)"
   ]
  }
 ],
 "metadata": {
  "kernelspec": {
   "display_name": ".venv",
   "language": "python",
   "name": "python3"
  },
  "language_info": {
   "codemirror_mode": {
    "name": "ipython",
    "version": 3
   },
   "file_extension": ".py",
   "mimetype": "text/x-python",
   "name": "python",
   "nbconvert_exporter": "python",
   "pygments_lexer": "ipython3",
   "version": "3.9.22"
  }
 },
 "nbformat": 4,
 "nbformat_minor": 5
}
